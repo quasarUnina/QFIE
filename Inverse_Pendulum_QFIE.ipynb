{
 "cells": [
  {
   "cell_type": "markdown",
   "id": "b35b322c",
   "metadata": {},
   "source": [
    "# QFIE for Inverse Pendulum Control\n",
    "\n",
    "This notebook aims to illustrate how QFIE can control efficiently an inverse pendulum system. The system configuration is reported in the related paper 'On the Implementation of Fuzzy Inference Engines on Quantum Computers - G. Acampora, R. Schiattarella and A.Vitiello', submitted to IEEE Transaction on Fuzzy Systems.\n",
    "\n",
    "___\n",
    "\n",
    "Firstly, let us import the required dependencies and let us start by defining the universe of discourse and fuzzy partition for the two input variables $\\theta$ and $\\omega$ and for the output variable $I$, both for the system controlled by QFIE and the system controlled by a Classical Fuzzy Inference Engine (CFIE).\n"
   ]
  },
  {
   "cell_type": "code",
   "execution_count": null,
   "id": "2182fa61",
   "metadata": {},
   "outputs": [],
   "source": [
    "import numpy as np\n",
    "import skfuzzy as fuzz\n",
    "import matplotlib.pyplot as plt\n",
    "import QFIE\n",
    "import systems\n",
    "import controllers"
   ]
  },
  {
   "cell_type": "markdown",
   "id": "44fab44c",
   "metadata": {},
   "source": [
    "You can see the fuzzy partition of the variables of the system by running the following cell. \n",
    "The rule base of the system consists in the follwing set:\n",
    "   - if theta is zero and omega is zero then current is zero;\n",
    "   - if theta is zero and omega is neg then current is pos_small;\n",
    "   - if theta is zero and omega is pos then current is neg_small;\n",
    "   - if theta is pos and omega is zero then current is neg_small;\n",
    "   - if theta is pos and omega is pos then current is neg_medium;\n",
    "   - if theta is pos and omega is neg then current is zero;\n",
    "   - if theta is neg and omega is zero then current is pos_small;\n",
    "   - if theta is neg and omega is pos then current is zero;\n",
    "   - if theta is neg and omega is neg then current is pos_medium.\n",
    "   \n",
    "Please, refer to the paper for more details about the normalization factors for $\\theta$ and $\\omega$"
   ]
  },
  {
   "cell_type": "code",
   "execution_count": null,
   "id": "42e2ed11",
   "metadata": {},
   "outputs": [],
   "source": [
    "qfie = systems.q_pendulum()\n",
    "cfie = systems.c_pendulum()"
   ]
  },
  {
   "cell_type": "markdown",
   "id": "f13a3fca",
   "metadata": {},
   "source": [
    "According to the workflow presented in the experimental section of the paper, it will be hereafter shown the case study shown in sec. V-B: there a single execution of QFIE is carried out by starting with a system in the following configuration:\n",
    "   - $\\theta$ = -0.5\n",
    "   - $\\omega$ = 0.5\n",
    "   - g = 0\n",
    "\n",
    "Please, execute the following cell to set the system in that configuration."
   ]
  },
  {
   "cell_type": "code",
   "execution_count": null,
   "id": "a84d730e",
   "metadata": {},
   "outputs": [],
   "source": [
    "T = 1\n",
    "t = 0.05\n",
    "theta_0 = -0.5\n",
    "omega_0 = 0.5\n",
    "g = False"
   ]
  },
  {
   "cell_type": "markdown",
   "id": "9cde5b13",
   "metadata": {},
   "source": [
    "By running the following cell you can see the action of QFIE on the system. It will be displayed in order: the input values of $\\theta$ and $\\omega$; the fuzzified value of the aforementioned input variables; the output counts of the quantum circuit after $N_S=8000$ shots; the computed value of current that is applied to the system according to eq. (50) in the paper; the new values of $\\theta$ and $\\omega$ after a time step of $t=0.05 s$.\n",
    "\n",
    "Moreover it will be show the quantum circuit implementing QFIE and the histogram containing the probabilities $P_{c_i}$ esteemed(see the paper for thei meaning). "
   ]
  },
  {
   "cell_type": "code",
   "execution_count": null,
   "id": "6a70120a",
   "metadata": {},
   "outputs": [],
   "source": [
    "q_ctrl = controllers.Quantum_Control(theta_0, omega_0, T, t, g, qfie)\n",
    "q_ctrl.update(plot_histo=True, draw_qc=True)"
   ]
  },
  {
   "cell_type": "markdown",
   "id": "ea16c6d9",
   "metadata": {},
   "source": [
    "___________\n",
    "\n",
    "Successively, it is presented the comparison of QFIE and CFIE discussed in the final part of the paper. In the following cell you can set the initial configuration of your system, by selecting: \n",
    "- T: number of calls to QFIE and CFIE\n",
    "- t: time step \n",
    "- theta_0: initial angle of the pendulum\n",
    "- omega_0: initial radial velocity of the pendulum\n",
    "\n",
    "- g: if True gravity is considered, while if False g = 0"
   ]
  },
  {
   "cell_type": "code",
   "execution_count": null,
   "id": "f996cf35",
   "metadata": {},
   "outputs": [],
   "source": [
    "T = 600\n",
    "t = 0.01\n",
    "theta_0 = -2\n",
    "omega_0 = 0\n",
    "\n",
    "g = False"
   ]
  },
  {
   "cell_type": "markdown",
   "id": "5893aaf4",
   "metadata": {},
   "source": [
    "Then, running the following cell it can be simulated the pendulum controlled by QFIE in the set environment. In the output you can monitor the status of the simulation, call by call to QFIE. As for the previous case, for each call you will see:\n",
    "   - The crisp value of the input variables\n",
    "   - The fuzzified values used as input for QFIE\n",
    "   - The Output Counts of QFIE\n",
    "   - The computed value of $I$ \n",
    "   - The updated crisp values of $\\theta$ and $\\omega$\n",
    "\n",
    "Please, note that if T is an high value the whole simulation can take some time."
   ]
  },
  {
   "cell_type": "code",
   "execution_count": null,
   "id": "f2293371",
   "metadata": {
    "scrolled": true
   },
   "outputs": [],
   "source": [
    "q_ctrl = controllers.Quantum_Control(theta_0, omega_0, T, t, g, qfie)\n",
    "points = q_ctrl.update(plot_histo=False, draw_qc=False)\n",
    "theta_quantum, omega_quantum = [], []\n",
    "for p in points:\n",
    "    theta_quantum.append(p[0])\n",
    "    omega_quantum.append(p[1])"
   ]
  },
  {
   "cell_type": "markdown",
   "id": "1ff6652d",
   "metadata": {},
   "source": [
    "At this point, executing the following cell it can be simulate the classical control of the system intially in the same condition of that set for the previous case.\n",
    "You can monitor the simulation at each execution of the classical controll. Indeed, it will be displyed for each call to CIFE:\n",
    "- The computed value of $I$ \n",
    "- The updated crisp values of $\\theta$ and $\\omega$"
   ]
  },
  {
   "cell_type": "code",
   "execution_count": null,
   "id": "5084031b",
   "metadata": {},
   "outputs": [],
   "source": [
    "c_ctrl = controllers.Classical_Control(theta_0, omega_0, T, t, g, cfie)\n",
    "points_c = c_ctrl.update()\n",
    "theta_c, omega_c = [], []\n",
    "for p in points_c:\n",
    "    theta_c.append(p[0])\n",
    "    omega_c.append(p[1])"
   ]
  },
  {
   "cell_type": "markdown",
   "id": "676752c6",
   "metadata": {},
   "source": [
    "Finally, running the following cell it is possible to plot the trends of $\\theta$ and $\\omega$ controlled by QFIE compared to the ones controlled by CFIE. "
   ]
  },
  {
   "cell_type": "code",
   "execution_count": null,
   "id": "b0edd6cf",
   "metadata": {
    "scrolled": true
   },
   "outputs": [],
   "source": [
    "import matplotlib.pyplot as plt\n",
    "\n",
    "fig, (ax0, ax1) = plt.subplots(nrows=2, figsize=(8, 10))\n",
    "\n",
    "ax0.plot(theta_c, color='b', label=r'$\\theta_c$')\n",
    "ax0.plot(theta_quantum, color='g', label=r'$\\theta_q$')\n",
    "ax0.set_ylabel(r'$\\theta$')\n",
    "ax0.set_xlabel(r'$T$')\n",
    "ax0.legend()\n",
    "\n",
    "ax1.plot(omega_c, color='b', label=r'$\\omega_c$')\n",
    "ax1.plot(omega_quantum, color='g', label=r'$\\omega_q$')\n",
    "ax1.set_ylabel(r'$\\omega$')\n",
    "ax1.set_xlabel(r'$T$')\n",
    "ax1.legend()\n",
    "\n",
    "\n",
    "\n",
    "plt.show()\n",
    "\n",
    "\n",
    "\n"
   ]
  },
  {
   "cell_type": "markdown",
   "id": "5b23f56d",
   "metadata": {},
   "source": [
    "Moreover, the following animation shows the pendulum controlled by the classical and the quantum fuzzy inference engine over the time set. The <b> Red </b> pendulum is controlled by CFIE, the <b> Black</b> one by QFIE. "
   ]
  },
  {
   "cell_type": "code",
   "execution_count": null,
   "id": "61d4130c",
   "metadata": {
    "scrolled": false
   },
   "outputs": [],
   "source": [
    "%matplotlib notebook\n",
    "import math\n",
    "from matplotlib import animation\n",
    "fig = plt.figure(figsize=(5, 5), facecolor='w')\n",
    "ax = fig.add_subplot(1, 1, 1)\n",
    "plt.rcParams['font.size'] = 15\n",
    "t_i=[i for i in range(T)]\n",
    "lns = []\n",
    "for i in range(T):\n",
    "    ln, = ax.plot([0, math.sin(theta_quantum[i])], [0, math.cos(theta_quantum[i])],\n",
    "                  color='k', lw=2, label='Quantum')\n",
    "    ln_c, = ax.plot([0, math.sin(theta_c[i])], [0, math.cos(theta_c[i])],\n",
    "                  color='r', lw=2, label='Classical')\n",
    "    tm = ax.text(-1, 0.9, 'time = %.01f s' % (t_i[i]*t))\n",
    "    lns.append([ln, ln_c, tm])\n",
    "\n",
    "\n",
    "ax.set_aspect('equal', 'datalim')\n",
    "ax.grid()\n",
    "ani = animation.ArtistAnimation(fig, lns, interval=50)\n",
    "\n",
    "plt.rcParams['animation.html'] = 'html5'\n",
    "ani"
   ]
  },
  {
   "cell_type": "code",
   "execution_count": null,
   "id": "4150713e",
   "metadata": {},
   "outputs": [],
   "source": []
  }
 ],
 "metadata": {
  "kernelspec": {
   "display_name": "Python [conda env:.conda-qd_selector] *",
   "language": "python",
   "name": "conda-env-.conda-qd_selector-py"
  },
  "language_info": {
   "codemirror_mode": {
    "name": "ipython",
    "version": 3
   },
   "file_extension": ".py",
   "mimetype": "text/x-python",
   "name": "python",
   "nbconvert_exporter": "python",
   "pygments_lexer": "ipython3",
   "version": "3.8.5"
  }
 },
 "nbformat": 4,
 "nbformat_minor": 5
}
